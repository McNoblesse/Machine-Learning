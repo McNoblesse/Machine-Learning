{
 "cells": [
  {
   "cell_type": "markdown",
   "id": "7d4a664a",
   "metadata": {},
   "source": [
    "<h1>Importing the dataset and printing first five items </h1>"
   ]
  },
  {
   "cell_type": "code",
   "execution_count": 1,
   "id": "7a93410c",
   "metadata": {},
   "outputs": [],
   "source": [
    "import pandas as pd\n",
    "\n",
    "df = pd.read_csv(\"cnn_data_4_5_-1076392975.csv\")"
   ]
  },
  {
   "cell_type": "code",
   "execution_count": 2,
   "id": "f7fd5ab7",
   "metadata": {},
   "outputs": [
    {
     "data": {
      "text/html": [
       "<div>\n",
       "<style scoped>\n",
       "    .dataframe tbody tr th:only-of-type {\n",
       "        vertical-align: middle;\n",
       "    }\n",
       "\n",
       "    .dataframe tbody tr th {\n",
       "        vertical-align: top;\n",
       "    }\n",
       "\n",
       "    .dataframe thead th {\n",
       "        text-align: right;\n",
       "    }\n",
       "</style>\n",
       "<table border=\"1\" class=\"dataframe\">\n",
       "  <thead>\n",
       "    <tr style=\"text-align: right;\">\n",
       "      <th></th>\n",
       "      <th>url</th>\n",
       "      <th>title</th>\n",
       "      <th>body</th>\n",
       "      <th>date</th>\n",
       "    </tr>\n",
       "  </thead>\n",
       "  <tbody>\n",
       "    <tr>\n",
       "      <th>0</th>\n",
       "      <td>https://www.cnn.com/2020/03/23/media/japan-abe...</td>\n",
       "      <td>Japan asked the international media to change ...</td>\n",
       "      <td>In the new system \"Canton becomes Guangzhou an...</td>\n",
       "      <td>3/24/2020</td>\n",
       "    </tr>\n",
       "    <tr>\n",
       "      <th>1</th>\n",
       "      <td>https://www.cnn.com/2020/03/16/perspectives/us...</td>\n",
       "      <td>The United States is still too reliant on oil</td>\n",
       "      <td>Saudi Arabia's decision to open its taps comes...</td>\n",
       "      <td>3/24/2020</td>\n",
       "    </tr>\n",
       "    <tr>\n",
       "      <th>2</th>\n",
       "      <td>https://www.cnn.com/2020/03/23/investing/globa...</td>\n",
       "      <td>Global stocks and US futures rise as policymak...</td>\n",
       "      <td>The promise of unlimited support for markets f...</td>\n",
       "      <td>3/24/2020</td>\n",
       "    </tr>\n",
       "    <tr>\n",
       "      <th>3</th>\n",
       "      <td>https://www.cnn.com/2020/03/24/economy/china-e...</td>\n",
       "      <td>China is trying to revive its economy without ...</td>\n",
       "      <td>The country where the pandemic began was almos...</td>\n",
       "      <td>3/24/2020</td>\n",
       "    </tr>\n",
       "    <tr>\n",
       "      <th>4</th>\n",
       "      <td>https://www.cnn.com/2020/03/24/business/bailou...</td>\n",
       "      <td>Companies that binged on buybacks now seek bai...</td>\n",
       "      <td>Now, some of the same companies that binged on...</td>\n",
       "      <td>3/24/2020</td>\n",
       "    </tr>\n",
       "  </tbody>\n",
       "</table>\n",
       "</div>"
      ],
      "text/plain": [
       "                                                 url  \\\n",
       "0  https://www.cnn.com/2020/03/23/media/japan-abe...   \n",
       "1  https://www.cnn.com/2020/03/16/perspectives/us...   \n",
       "2  https://www.cnn.com/2020/03/23/investing/globa...   \n",
       "3  https://www.cnn.com/2020/03/24/economy/china-e...   \n",
       "4  https://www.cnn.com/2020/03/24/business/bailou...   \n",
       "\n",
       "                                               title  \\\n",
       "0  Japan asked the international media to change ...   \n",
       "1      The United States is still too reliant on oil   \n",
       "2  Global stocks and US futures rise as policymak...   \n",
       "3  China is trying to revive its economy without ...   \n",
       "4  Companies that binged on buybacks now seek bai...   \n",
       "\n",
       "                                                body       date  \n",
       "0  In the new system \"Canton becomes Guangzhou an...  3/24/2020  \n",
       "1  Saudi Arabia's decision to open its taps comes...  3/24/2020  \n",
       "2  The promise of unlimited support for markets f...  3/24/2020  \n",
       "3  The country where the pandemic began was almos...  3/24/2020  \n",
       "4  Now, some of the same companies that binged on...  3/24/2020  "
      ]
     },
     "execution_count": 2,
     "metadata": {},
     "output_type": "execute_result"
    }
   ],
   "source": [
    "df.head()"
   ]
  },
  {
   "cell_type": "markdown",
   "id": "866dbb78",
   "metadata": {},
   "source": [
    "<p>Looping through the body of the data set to get token words. To aviod stop words like \"some\", \"it\", \"the\", the STOPWORDS stores in wordcloud library was used. </p>"
   ]
  },
  {
   "cell_type": "code",
   "execution_count": 3,
   "id": "3c7835cf",
   "metadata": {},
   "outputs": [],
   "source": [
    "import re\n",
    "from wordcloud import STOPWORDS\n",
    "stop_words = set(STOPWORDS)\n",
    "word_dict = {}\n",
    "for i in df[\"body\"]:\n",
    "    for j in i.split(\" \"):\n",
    "        j = j.lower()\n",
    "        j = re.sub('[^A-Za-z0-9]+', '', j)\n",
    "        if j in word_dict.keys() and j not in stop_words:\n",
    "            word_dict[j] = word_dict[j]+1\n",
    "        else:\n",
    "            word_dict[j] = 1\n",
    "        \n",
    "    "
   ]
  },
  {
   "cell_type": "code",
   "execution_count": 4,
   "id": "c495fd64",
   "metadata": {},
   "outputs": [],
   "source": [
    "# Convert result dict to Dataframe\n",
    "result_df = pd.DataFrame([word_dict])"
   ]
  },
  {
   "cell_type": "code",
   "execution_count": 5,
   "id": "16652329",
   "metadata": {},
   "outputs": [
    {
     "data": {
      "text/html": [
       "<div>\n",
       "<style scoped>\n",
       "    .dataframe tbody tr th:only-of-type {\n",
       "        vertical-align: middle;\n",
       "    }\n",
       "\n",
       "    .dataframe tbody tr th {\n",
       "        vertical-align: top;\n",
       "    }\n",
       "\n",
       "    .dataframe thead th {\n",
       "        text-align: right;\n",
       "    }\n",
       "</style>\n",
       "<table border=\"1\" class=\"dataframe\">\n",
       "  <thead>\n",
       "    <tr style=\"text-align: right;\">\n",
       "      <th></th>\n",
       "      <th>Word</th>\n",
       "      <th>Count</th>\n",
       "    </tr>\n",
       "  </thead>\n",
       "  <tbody>\n",
       "    <tr>\n",
       "      <th>0</th>\n",
       "      <td>in</td>\n",
       "      <td>1</td>\n",
       "    </tr>\n",
       "    <tr>\n",
       "      <th>1</th>\n",
       "      <td>the</td>\n",
       "      <td>1</td>\n",
       "    </tr>\n",
       "    <tr>\n",
       "      <th>2</th>\n",
       "      <td>new</td>\n",
       "      <td>480</td>\n",
       "    </tr>\n",
       "    <tr>\n",
       "      <th>3</th>\n",
       "      <td>system</td>\n",
       "      <td>88</td>\n",
       "    </tr>\n",
       "    <tr>\n",
       "      <th>4</th>\n",
       "      <td>canton</td>\n",
       "      <td>1</td>\n",
       "    </tr>\n",
       "    <tr>\n",
       "      <th>...</th>\n",
       "      <td>...</td>\n",
       "      <td>...</td>\n",
       "    </tr>\n",
       "    <tr>\n",
       "      <th>14898</th>\n",
       "      <td>outperforming</td>\n",
       "      <td>1</td>\n",
       "    </tr>\n",
       "    <tr>\n",
       "      <th>14899</th>\n",
       "      <td>cuboulder</td>\n",
       "      <td>1</td>\n",
       "    </tr>\n",
       "    <tr>\n",
       "      <th>14900</th>\n",
       "      <td>comparative</td>\n",
       "      <td>1</td>\n",
       "    </tr>\n",
       "    <tr>\n",
       "      <th>14901</th>\n",
       "      <td>2010s</td>\n",
       "      <td>1</td>\n",
       "    </tr>\n",
       "    <tr>\n",
       "      <th>14902</th>\n",
       "      <td>evolved</td>\n",
       "      <td>1</td>\n",
       "    </tr>\n",
       "  </tbody>\n",
       "</table>\n",
       "<p>14903 rows × 2 columns</p>\n",
       "</div>"
      ],
      "text/plain": [
       "                Word  Count\n",
       "0                 in      1\n",
       "1                the      1\n",
       "2                new    480\n",
       "3             system     88\n",
       "4             canton      1\n",
       "...              ...    ...\n",
       "14898  outperforming      1\n",
       "14899      cuboulder      1\n",
       "14900    comparative      1\n",
       "14901          2010s      1\n",
       "14902        evolved      1\n",
       "\n",
       "[14903 rows x 2 columns]"
      ]
     },
     "execution_count": 5,
     "metadata": {},
     "output_type": "execute_result"
    }
   ],
   "source": [
    "result_df = result_df.T\n",
    "result_df.reset_index(inplace = True)\n",
    "result_df.columns = [\"Word\", \"Count\"]\n",
    "result_df"
   ]
  },
  {
   "cell_type": "markdown",
   "id": "4fa29dbe",
   "metadata": {},
   "source": [
    "<p> Filtering the result even further</p>"
   ]
  },
  {
   "cell_type": "code",
   "execution_count": 6,
   "id": "8c7f120f",
   "metadata": {},
   "outputs": [
    {
     "name": "stderr",
     "output_type": "stream",
     "text": [
      "/tmp/ipykernel_45545/3060973537.py:3: SettingWithCopyWarning: \n",
      "A value is trying to be set on a copy of a slice from a DataFrame\n",
      "\n",
      "See the caveats in the documentation: https://pandas.pydata.org/pandas-docs/stable/user_guide/indexing.html#returning-a-view-versus-a-copy\n",
      "  result_df.sort_values(by=['Count'], ascending=False, inplace = True)\n"
     ]
    }
   ],
   "source": [
    "#Removing Outliers\n",
    "result_df = result_df[result_df[\"Count\"]<1000]\n",
    "#Sorting result in descending order\n",
    "result_df.sort_values(by=['Count'], ascending=False, inplace = True)"
   ]
  },
  {
   "cell_type": "code",
   "execution_count": 7,
   "id": "70f4412e",
   "metadata": {},
   "outputs": [
    {
     "data": {
      "text/html": [
       "<div>\n",
       "<style scoped>\n",
       "    .dataframe tbody tr th:only-of-type {\n",
       "        vertical-align: middle;\n",
       "    }\n",
       "\n",
       "    .dataframe tbody tr th {\n",
       "        vertical-align: top;\n",
       "    }\n",
       "\n",
       "    .dataframe thead th {\n",
       "        text-align: right;\n",
       "    }\n",
       "</style>\n",
       "<table border=\"1\" class=\"dataframe\">\n",
       "  <thead>\n",
       "    <tr style=\"text-align: right;\">\n",
       "      <th></th>\n",
       "      <th>Word</th>\n",
       "      <th>Count</th>\n",
       "    </tr>\n",
       "  </thead>\n",
       "  <tbody>\n",
       "    <tr>\n",
       "      <th>0</th>\n",
       "      <td>people</td>\n",
       "      <td>695</td>\n",
       "    </tr>\n",
       "    <tr>\n",
       "      <th>1</th>\n",
       "      <td>coronavirus</td>\n",
       "      <td>564</td>\n",
       "    </tr>\n",
       "    <tr>\n",
       "      <th>2</th>\n",
       "      <td>business</td>\n",
       "      <td>543</td>\n",
       "    </tr>\n",
       "    <tr>\n",
       "      <th>3</th>\n",
       "      <td>us</td>\n",
       "      <td>515</td>\n",
       "    </tr>\n",
       "    <tr>\n",
       "      <th>4</th>\n",
       "      <td>company</td>\n",
       "      <td>495</td>\n",
       "    </tr>\n",
       "    <tr>\n",
       "      <th>...</th>\n",
       "      <td>...</td>\n",
       "      <td>...</td>\n",
       "    </tr>\n",
       "    <tr>\n",
       "      <th>14895</th>\n",
       "      <td>absorbed</td>\n",
       "      <td>1</td>\n",
       "    </tr>\n",
       "    <tr>\n",
       "      <th>14896</th>\n",
       "      <td>workweeks</td>\n",
       "      <td>1</td>\n",
       "    </tr>\n",
       "    <tr>\n",
       "      <th>14897</th>\n",
       "      <td>fourday</td>\n",
       "      <td>1</td>\n",
       "    </tr>\n",
       "    <tr>\n",
       "      <th>14898</th>\n",
       "      <td>400member</td>\n",
       "      <td>1</td>\n",
       "    </tr>\n",
       "    <tr>\n",
       "      <th>14899</th>\n",
       "      <td>evolved</td>\n",
       "      <td>1</td>\n",
       "    </tr>\n",
       "  </tbody>\n",
       "</table>\n",
       "<p>14900 rows × 2 columns</p>\n",
       "</div>"
      ],
      "text/plain": [
       "              Word  Count\n",
       "0           people    695\n",
       "1      coronavirus    564\n",
       "2         business    543\n",
       "3               us    515\n",
       "4          company    495\n",
       "...            ...    ...\n",
       "14895     absorbed      1\n",
       "14896    workweeks      1\n",
       "14897      fourday      1\n",
       "14898    400member      1\n",
       "14899      evolved      1\n",
       "\n",
       "[14900 rows x 2 columns]"
      ]
     },
     "execution_count": 7,
     "metadata": {},
     "output_type": "execute_result"
    }
   ],
   "source": [
    "result_df.reset_index(inplace = True, drop = True)\n",
    "result_df"
   ]
  },
  {
   "cell_type": "code",
   "execution_count": 8,
   "id": "40f3d058",
   "metadata": {},
   "outputs": [],
   "source": [
    "# Getting our features and top 10 result\n",
    "features = result_df.head(500)\n",
    "top_10 = features.head(10)"
   ]
  },
  {
   "cell_type": "code",
   "execution_count": 9,
   "id": "2930219c",
   "metadata": {},
   "outputs": [
    {
     "data": {
      "text/plain": [
       "Text(0, 0.5, 'Frequency')"
      ]
     },
     "execution_count": 9,
     "metadata": {},
     "output_type": "execute_result"
    },
    {
     "data": {
      "image/png": "[encoded data removed]",
      "text/plain": [
       "<Figure size 1008x432 with 1 Axes>"
      ]
     },
     "metadata": {
      "needs_background": "light"
     },
     "output_type": "display_data"
    }
   ],
   "source": [
    "import matplotlib.pyplot as plt\n",
    "plt.figure(figsize = (14,6))\n",
    "\n",
    "plt.bar(top_10[\"Word\"], top_10[\"Count\"])\n",
    "plt.title(\"Top 10 words\")\n",
    "plt.xlabel(\"Words\")\n",
    "plt.ylabel(\"Frequency\")\n",
    "# plt.xticks(rotation=90)"
   ]
  },
  {
   "cell_type": "markdown",
   "id": "de337ca4",
   "metadata": {},
   "source": [
    "Getting related pandemic terms"
   ]
  },
  {
   "cell_type": "code",
   "execution_count": 10,
   "id": "029f8918",
   "metadata": {},
   "outputs": [],
   "source": [
    "f = open(\"pandemic_092937.txt\",\"r\")\n",
    "term = []\n",
    "for x in f:\n",
    "    for i in x.split():\n",
    "        i = i.lower()\n",
    "        i = re.sub('[^A-Za-z0-9]+', '', i)\n",
    "        term.append(i)\n"
   ]
  },
  {
   "cell_type": "code",
   "execution_count": 11,
   "id": "e3afb971",
   "metadata": {},
   "outputs": [
    {
     "data": {
      "text/html": [
       "<div>\n",
       "<style scoped>\n",
       "    .dataframe tbody tr th:only-of-type {\n",
       "        vertical-align: middle;\n",
       "    }\n",
       "\n",
       "    .dataframe tbody tr th {\n",
       "        vertical-align: top;\n",
       "    }\n",
       "\n",
       "    .dataframe thead th {\n",
       "        text-align: right;\n",
       "    }\n",
       "</style>\n",
       "<table border=\"1\" class=\"dataframe\">\n",
       "  <thead>\n",
       "    <tr style=\"text-align: right;\">\n",
       "      <th></th>\n",
       "      <th>Word</th>\n",
       "      <th>Count</th>\n",
       "    </tr>\n",
       "  </thead>\n",
       "  <tbody>\n",
       "    <tr>\n",
       "      <th>1</th>\n",
       "      <td>coronavirus</td>\n",
       "      <td>564</td>\n",
       "    </tr>\n",
       "    <tr>\n",
       "      <th>2</th>\n",
       "      <td>business</td>\n",
       "      <td>543</td>\n",
       "    </tr>\n",
       "    <tr>\n",
       "      <th>22</th>\n",
       "      <td>pandemic</td>\n",
       "      <td>289</td>\n",
       "    </tr>\n",
       "    <tr>\n",
       "      <th>50</th>\n",
       "      <td>social</td>\n",
       "      <td>199</td>\n",
       "    </tr>\n",
       "    <tr>\n",
       "      <th>132</th>\n",
       "      <td>covid19</td>\n",
       "      <td>113</td>\n",
       "    </tr>\n",
       "    <tr>\n",
       "      <th>134</th>\n",
       "      <td>distancing</td>\n",
       "      <td>111</td>\n",
       "    </tr>\n",
       "    <tr>\n",
       "      <th>186</th>\n",
       "      <td>emergency</td>\n",
       "      <td>92</td>\n",
       "    </tr>\n",
       "    <tr>\n",
       "      <th>187</th>\n",
       "      <td>spread</td>\n",
       "      <td>92</td>\n",
       "    </tr>\n",
       "    <tr>\n",
       "      <th>196</th>\n",
       "      <td>rate</td>\n",
       "      <td>91</td>\n",
       "    </tr>\n",
       "    <tr>\n",
       "      <th>230</th>\n",
       "      <td>national</td>\n",
       "      <td>83</td>\n",
       "    </tr>\n",
       "    <tr>\n",
       "      <th>340</th>\n",
       "      <td>community</td>\n",
       "      <td>63</td>\n",
       "    </tr>\n",
       "    <tr>\n",
       "      <th>358</th>\n",
       "      <td>positive</td>\n",
       "      <td>60</td>\n",
       "    </tr>\n",
       "    <tr>\n",
       "      <th>409</th>\n",
       "      <td>essential</td>\n",
       "      <td>55</td>\n",
       "    </tr>\n",
       "    <tr>\n",
       "      <th>411</th>\n",
       "      <td>period</td>\n",
       "      <td>55</td>\n",
       "    </tr>\n",
       "  </tbody>\n",
       "</table>\n",
       "</div>"
      ],
      "text/plain": [
       "            Word  Count\n",
       "1    coronavirus    564\n",
       "2       business    543\n",
       "22      pandemic    289\n",
       "50        social    199\n",
       "132      covid19    113\n",
       "134   distancing    111\n",
       "186    emergency     92\n",
       "187       spread     92\n",
       "196         rate     91\n",
       "230     national     83\n",
       "340    community     63\n",
       "358     positive     60\n",
       "409    essential     55\n",
       "411       period     55"
      ]
     },
     "execution_count": 11,
     "metadata": {},
     "output_type": "execute_result"
    }
   ],
   "source": [
    "#Getting words in term present in our features\n",
    "test = features[features[\"Word\"].isin(term) ]\n",
    "test"
   ]
  },
  {
   "cell_type": "code",
   "execution_count": 12,
   "id": "c2ed0d57",
   "metadata": {},
   "outputs": [
    {
     "data": {
      "text/plain": [
       "Text(0, 0.5, 'Frequency')"
      ]
     },
     "execution_count": 12,
     "metadata": {},
     "output_type": "execute_result"
    },
    {
     "data": {
      "image/png": "[encoded data removed]",
      "text/plain": [
       "<Figure size 1008x432 with 1 Axes>"
      ]
     },
     "metadata": {
      "needs_background": "light"
     },
     "output_type": "display_data"
    }
   ],
   "source": [
    "\n",
    "#plotting top ten result\n",
    "top_ten = test.head(10)\n",
    "import matplotlib.pyplot as plt\n",
    "plt.figure(figsize = (14,6))\n",
    "\n",
    "plt.bar(top_ten[\"Word\"], top_ten[\"Count\"])\n",
    "plt.title(\"Top 10 words\")\n",
    "plt.xlabel(\"Words\")\n",
    "plt.ylabel(\"Frequency\")"
   ]
  },
  {
   "cell_type": "code",
   "execution_count": null,
   "id": "ad585234",
   "metadata": {},
   "outputs": [],
   "source": [
    "fe"
   ]
  }
 ],
 "metadata": {
  "kernelspec": {
   "display_name": "Python 3 (ipykernel)",
   "language": "python",
   "name": "python3"
  },
  "language_info": {
   "codemirror_mode": {
    "name": "ipython",
    "version": 3
   },
   "file_extension": ".py",
   "mimetype": "text/x-python",
   "name": "python",
   "nbconvert_exporter": "python",
   "pygments_lexer": "ipython3",
   "version": "3.9.7"
  }
 },
 "nbformat": 4,
 "nbformat_minor": 5
}
